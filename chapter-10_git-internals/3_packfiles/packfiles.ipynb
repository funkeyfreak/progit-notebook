{
  "cells": [
    {
      "metadata": {
        "collapsed": true,
        "slideshow": {
          "slide_type": "notes"
        }
      },
      "cell_type": "markdown",
      "source": "This notebook _roughly_ follows [git-book chapter 10.4 - Git Internals - Packfiles](https://git-scm.com/book/en/v2/Git-Internals-Packfiles)."
    },
    {
      "metadata": {
        "slideshow": {
          "slide_type": "notes"
        }
      },
      "cell_type": "markdown",
      "source": "# Before we git started, let's setup your environment\n\n\n## NOTE: Run the [git-references notebook](../2_git-references/git-references.ipynb) before running this notebook"
    },
    {
      "metadata": {
        "slideshow": {
          "slide_type": "notes"
        },
        "trusted": true
      },
      "cell_type": "code",
      "source": "from pprint import pprint\n\n!sh clean.sh\n!sh setup.sh",
      "execution_count": null,
      "outputs": []
    },
    {
      "metadata": {
        "slideshow": {
          "slide_type": "slide"
        }
      },
      "cell_type": "markdown",
      "source": "# Git Internals - Packfiles\n\n![a green trash compactor](http://hwestequipment.com/wp-content/uploads/2018/07/4-Reasons-Why-You-Need-an-Industrial-Trash-Compactor-on-Your-Companys-Grounds.png)"
    },
    {
      "metadata": {
        "slideshow": {
          "slide_type": "slide"
        }
      },
      "cell_type": "markdown",
      "source": "## Packfiles"
    },
    {
      "metadata": {
        "slideshow": {
          "slide_type": "slide"
        }
      },
      "cell_type": "markdown",
      "source": "Git is pretty good at compacting files - after all of our work, our repo is not even 1 killobyte"
    },
    {
      "metadata": {
        "slideshow": {
          "slide_type": "subslide"
        }
      },
      "cell_type": "markdown",
      "source": "However, that may not always be the case. Let's add a large file to our repo to demonstrate"
    },
    {
      "metadata": {
        "trusted": true
      },
      "cell_type": "code",
      "source": "!curl https://raw.githubusercontent.com/mojombo/grit/master/lib/grit/repo.rb > repo.rb\n!git checkout master\n!git add repo.rb\n!git commit -m 'added repo.rb'",
      "execution_count": null,
      "outputs": []
    },
    {
      "metadata": {
        "slideshow": {
          "slide_type": "subslide"
        }
      },
      "cell_type": "markdown",
      "source": "Let's grab the SHA-1 of the file"
    },
    {
      "metadata": {
        "trusted": true
      },
      "cell_type": "code",
      "source": "reporb_commit_sha_1 = !git cat-file -p master^{tree} | awk '$4 == \"repo.rb\" { print $3 }'\nreporb_commit_sha_1 = reporb_commit_sha_1[0]\npprint(reporb_commit_sha_1)",
      "execution_count": null,
      "outputs": []
    },
    {
      "metadata": {
        "slideshow": {
          "slide_type": "fragment"
        }
      },
      "cell_type": "markdown",
      "source": "And use it to find the size of the file"
    },
    {
      "metadata": {
        "trusted": true
      },
      "cell_type": "code",
      "source": "!git cat-file -s $reporb_commit_sha_1",
      "execution_count": null,
      "outputs": []
    },
    {
      "metadata": {
        "slideshow": {
          "slide_type": "subslide"
        }
      },
      "cell_type": "markdown",
      "source": "Now, let's modify this file and see what changes"
    },
    {
      "metadata": {
        "trusted": true
      },
      "cell_type": "code",
      "source": "!echo '# testing' >> repo.rb\n!git commit -am 'modified repo.rb a bit'",
      "execution_count": null,
      "outputs": []
    },
    {
      "metadata": {
        "slideshow": {
          "slide_type": "fragment"
        }
      },
      "cell_type": "markdown",
      "source": "And grab the SHA-1 once again"
    },
    {
      "metadata": {
        "trusted": true
      },
      "cell_type": "code",
      "source": "mod_reporb_commit_sha_1 = !git cat-file -p master^{tree} | awk '$4 == \"repo.rb\" { print $3 }'\nmod_reporb_commit_sha_1 = mod_reporb_commit_sha_1[0]\npprint(mod_reporb_commit_sha_1)",
      "execution_count": null,
      "outputs": []
    },
    {
      "metadata": {
        "slideshow": {
          "slide_type": "subslide"
        }
      },
      "cell_type": "markdown",
      "source": "Woah - did you catch that?\nThe blob is a _completely_ different blob, even though we tacked on just a tiny bit of text!"
    },
    {
      "metadata": {
        "slideshow": {
          "slide_type": "fragment"
        }
      },
      "cell_type": "markdown",
      "source": "Let's check the size of the new blob"
    },
    {
      "metadata": {
        "trusted": true
      },
      "cell_type": "code",
      "source": "!git cat-file -s $mod_reporb_commit_sha_1",
      "execution_count": null,
      "outputs": []
    },
    {
      "metadata": {
        "slideshow": {
          "slide_type": "subslide"
        }
      },
      "cell_type": "markdown",
      "source": "So, every time we modify a file, even a large file, git will create a new blob... that's not great. There must be some way for git to store the similar bits of a file seperate from where they differ..."
    },
    {
      "metadata": {
        "slideshow": {
          "slide_type": "fragment"
        }
      },
      "cell_type": "markdown",
      "source": "Thankfully, git has another trick up its sleeve"
    },
    {
      "metadata": {
        "slideshow": {
          "slide_type": "fragment"
        }
      },
      "cell_type": "markdown",
      "source": "The format we've been using to store data far is what we call \"loose\" object format"
    },
    {
      "metadata": {
        "slideshow": {
          "slide_type": "slide"
        }
      },
      "cell_type": "markdown",
      "source": "The more compact form of storage in git is called a \"packfile\" - a binary file containing the common parts of several blobs"
    },
    {
      "metadata": {
        "slideshow": {
          "slide_type": "fragment"
        }
      },
      "cell_type": "markdown",
      "source": "Normally, this \"packing\" is done automatically during fetch and merge, but we can manually trigger this function by calling ```git gc```"
    },
    {
      "metadata": {
        "slideshow": {
          "slide_type": "subslide"
        }
      },
      "cell_type": "markdown",
      "source": "First let's check our .git/objects directory size before and after we run ```git gc```"
    },
    {
      "metadata": {
        "trusted": true
      },
      "cell_type": "code",
      "source": "!find .git/objects -type f\n!git gc\n!find .git/objects -type f",
      "execution_count": null,
      "outputs": []
    },
    {
      "metadata": {
        "slideshow": {
          "slide_type": "subslide"
        }
      },
      "cell_type": "markdown",
      "source": "As you can see, we have noticable change in the number of files in our objects directory - and a few new faces\n* .git/objects/pack*/pack-*\\.idx\n* .git/objects/pack*/pack-*\\.pack\n* .git/objects/info/packs"
    },
    {
      "metadata": {
        "slideshow": {
          "slide_type": "fragment"
        }
      },
      "cell_type": "markdown",
      "source": "The objects that remail are the blobs which were not pointed to any commit - like the \"what is up, doc?\" and \"test content\" test blobs "
    },
    {
      "metadata": {
        "slideshow": {
          "slide_type": "notes"
        }
      },
      "cell_type": "markdown",
      "source": "Since the aforementioned blobs were not added to a commit, they are considered to be dangling and are not picked up in the new packfile"
    },
    {
      "metadata": {
        "slideshow": {
          "slide_type": "fragment"
        }
      },
      "cell_type": "markdown",
      "source": "The new .pack file contains the contens of all the objects which were removed from your filesystem."
    },
    {
      "metadata": {
        "slideshow": {
          "slide_type": "fragment"
        }
      },
      "cell_type": "markdown",
      "source": "The .index file contains offsets into that packfile so we can quickly see a specific object"
    },
    {
      "metadata": {
        "slideshow": {
          "slide_type": "fragment"
        }
      },
      "cell_type": "markdown",
      "source": "All in all ```git gc``` reduced the size of our objects from roughly 15K to a cool 7K"
    },
    {
      "metadata": {
        "slideshow": {
          "slide_type": "subslide"
        }
      },
      "cell_type": "markdown",
      "source": "Git accomplishes this feat by looking for files which are named and sized similarly, and stores the deltas from one version of the file to the next"
    },
    {
      "metadata": {
        "slideshow": {
          "slide_type": "fragment"
        }
      },
      "cell_type": "markdown",
      "source": "We can look into the packfile using ```git verify-pack``` to see what git packed-up"
    },
    {
      "metadata": {
        "trusted": true
      },
      "cell_type": "code",
      "source": "pack_idx_file = !find .git/objects -type f | grep '.idx'\npack_idx_file = pack_idx_file[0]\npprint(pack_idx_file)\n!git verify-pack -v $pack_idx_file",
      "execution_count": null,
      "outputs": []
    },
    {
      "metadata": {
        "slideshow": {
          "slide_type": "subslide"
        }
      },
      "cell_type": "markdown",
      "source": "Here, we can see the SHA-1 of the original repo.rb file"
    },
    {
      "metadata": {
        "slideshow": {
          "slide_type": "-"
        },
        "trusted": true
      },
      "cell_type": "code",
      "source": "pprint(reporb_commit_sha_1)",
      "execution_count": null,
      "outputs": []
    },
    {
      "metadata": {},
      "cell_type": "markdown",
      "source": "Is referencing the modified repo.rb blob file"
    },
    {
      "metadata": {
        "trusted": true
      },
      "cell_type": "code",
      "source": "pprint(mod_reporb_commit_sha_1)",
      "execution_count": null,
      "outputs": []
    },
    {
      "metadata": {
        "slideshow": {
          "slide_type": "subslide"
        }
      },
      "cell_type": "markdown",
      "source": "Given that the third column in the table represents the size of the blob, we can see that the modified repo.rb blob file takes up the original 22K, but that the original repo.rb blob file now only take ~9 bytes."
    },
    {
      "metadata": {
        "slideshow": {
          "slide_type": "fragment"
        }
      },
      "cell_type": "markdown",
      "source": "Git purposefully keeps the newer file intact while reducing on the size of older files, as you will be more likly to access and update this version of the file "
    },
    {
      "metadata": {
        "slideshow": {
          "slide_type": "fragment"
        }
      },
      "cell_type": "markdown",
      "source": "This can be repacked at any time! Even though git will occasionally repack your database, you can expirement and see if runing ```git gc``` increases the preformance of your repo!"
    }
  ],
  "metadata": {
    "kernelspec": {
      "name": "python36",
      "display_name": "Python 3.6",
      "language": "python"
    },
    "language_info": {
      "mimetype": "text/x-python",
      "nbconvert_exporter": "python",
      "name": "python",
      "pygments_lexer": "ipython3",
      "version": "3.6.6",
      "file_extension": ".py",
      "codemirror_mode": {
        "version": 3,
        "name": "ipython"
      }
    },
    "celltoolbar": "Slideshow"
  },
  "nbformat": 4,
  "nbformat_minor": 2
}