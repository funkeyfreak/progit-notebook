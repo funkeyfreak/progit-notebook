{
  "cells": [
    {
      "metadata": {
        "collapsed": true,
        "slideshow": {
          "slide_type": "notes"
        }
      },
      "cell_type": "markdown",
      "source": "This notebook _roughly_ follows [git-book chapter 10.2 - Git Internals - Git Objects](https://git-scm.com/book/en/v2/Git-Internals-Git-Objects)."
    },
    {
      "metadata": {
        "slideshow": {
          "slide_type": "notes"
        }
      },
      "cell_type": "markdown",
      "source": "# Before we git started, let's setup your environment\n\n\nTODO: Read from [dotfile](https://github.com/theskumar/python-dotenv)"
    },
    {
      "metadata": {
        "slideshow": {
          "slide_type": "notes"
        },
        "trusted": true
      },
      "cell_type": "code",
      "source": "from pprint import pprint\n\n!sh clean.sh\n\n%env USERNAME=\"<git config user.name>\"\n%env USEREMAIL=\"<git config user.email>\"",
      "execution_count": null,
      "outputs": []
    },
    {
      "metadata": {
        "slideshow": {
          "slide_type": "slide"
        }
      },
      "cell_type": "markdown",
      "source": "# Git Internals - Git Objects\n\n![A Complex-Looking Object](https://talkingwithimage.files.wordpress.com/2014/10/f5ac465df56759f1fecb01e677ceeb34.jpg)"
    },
    {
      "metadata": {
        "slideshow": {
          "slide_type": "slide"
        }
      },
      "cell_type": "markdown",
      "source": "## Git Objects"
    },
    {
      "metadata": {
        "slideshow": {
          "slide_type": "skip"
        }
      },
      "cell_type": "markdown",
      "source": "### [Fact #1 - Git is a Content Addressable File System][factlink]\nThis means that git stores and retrieves data using a unique key.\n\n[factlink]: https://notebooks.azure.com/dalinwilliams/projects/git-good/html/Git%20Facts"
    },
    {
      "metadata": {
        "slideshow": {
          "slide_type": "skip"
        }
      },
      "cell_type": "markdown",
      "source": "#### Great... what does that mean"
    },
    {
      "metadata": {
        "slideshow": {
          "slide_type": "slide"
        }
      },
      "cell_type": "markdown",
      "source": "Let's go ahead and create a new repo"
    },
    {
      "metadata": {
        "trusted": true
      },
      "cell_type": "code",
      "source": "!git init",
      "execution_count": null,
      "outputs": []
    },
    {
      "metadata": {
        "slideshow": {
          "slide_type": "subslide"
        }
      },
      "cell_type": "markdown",
      "source": "And use ```git hash-object``` to add content to our repo"
    },
    {
      "metadata": {
        "trusted": true
      },
      "cell_type": "code",
      "source": "!echo 'test content' | git hash-object -w --stdin",
      "execution_count": null,
      "outputs": []
    },
    {
      "metadata": {
        "slideshow": {
          "slide_type": "subslide"
        }
      },
      "cell_type": "markdown",
      "source": "Just like that, we have content! By using ```hash-content``` with the ```-w``` flag, we've written ```'test content'``` to our repo. ```--stdin``` allows us to read from standard-in - the terminal - rahter than from a file. "
    },
    {
      "metadata": {
        "trusted": true
      },
      "cell_type": "code",
      "source": "!find .git/objects -type f",
      "execution_count": null,
      "outputs": []
    },
    {
      "metadata": {
        "slideshow": {
          "slide_type": "subslide"
        }
      },
      "cell_type": "markdown",
      "source": "The value returned by ```hash-content``` is the key to retrieve the data - the SHA-1 checksum of the content + a **header** (remember **header** for later)."
    },
    {
      "metadata": {
        "slideshow": {
          "slide_type": "subslide"
        }
      },
      "cell_type": "markdown",
      "source": "We can retrieve this data from our repo using ```git cat-file``` and the  checksum."
    },
    {
      "metadata": {
        "trusted": true
      },
      "cell_type": "code",
      "source": "!git cat-file -p d670460b4b4aece5915caf5c68d12f560a9fe3e4",
      "execution_count": null,
      "outputs": []
    },
    {
      "metadata": {
        "slideshow": {
          "slide_type": "slide"
        }
      },
      "cell_type": "markdown",
      "source": "We can even show how git implements version control - albeit on a micro scale"
    },
    {
      "metadata": {
        "slideshow": {
          "slide_type": "subslide"
        }
      },
      "cell_type": "markdown",
      "source": "Let's create a file, and add it to our repo"
    },
    {
      "metadata": {
        "trusted": true
      },
      "cell_type": "code",
      "source": "!echo 'version 1' > test.txt\n!git hash-object -w test.txt",
      "execution_count": null,
      "outputs": []
    },
    {
      "metadata": {
        "slideshow": {
          "slide_type": "subslide"
        }
      },
      "cell_type": "markdown",
      "source": "Let's modify that file to create a 'v2' of that file"
    },
    {
      "metadata": {
        "trusted": true
      },
      "cell_type": "code",
      "source": "!echo 'version 2' > test.txt\n!git hash-object -w test.txt",
      "execution_count": null,
      "outputs": []
    },
    {
      "metadata": {
        "slideshow": {
          "slide_type": "subslide"
        }
      },
      "cell_type": "markdown",
      "source": "And make sure these new objects have been created in our .git/objects dir"
    },
    {
      "metadata": {
        "trusted": true
      },
      "cell_type": "code",
      "source": "!find .git/objects -type f",
      "execution_count": null,
      "outputs": []
    },
    {
      "metadata": {
        "slideshow": {
          "slide_type": "subslide"
        }
      },
      "cell_type": "markdown",
      "source": "Now, we can delete our local copy of test.txt, and use git to retrieve any version we want"
    },
    {
      "metadata": {
        "slideshow": {
          "slide_type": "fragment"
        },
        "trusted": true
      },
      "cell_type": "code",
      "source": "!git cat-file -p 83baae61804e65cc73a7201a7252750c76066a30 > test.txt\n!cat test.txt",
      "execution_count": null,
      "outputs": []
    },
    {
      "metadata": {
        "slideshow": {
          "slide_type": "fragment"
        },
        "trusted": true
      },
      "cell_type": "code",
      "source": "!git cat-file -p 1f7a7a472abf3dd9643fd615f6da379c4acb3e3a > test.txt\n!cat test.txt",
      "execution_count": null,
      "outputs": []
    },
    {
      "metadata": {
        "slideshow": {
          "slide_type": "slide"
        }
      },
      "cell_type": "markdown",
      "source": "Now we can fetch data using the SHA-1 of a file - yay! However, since we are not storing the file by name, we now need to memorize all of the SHA-1s for every file and every version of that file, and remember it's name..."
    },
    {
      "metadata": {
        "slideshow": {
          "slide_type": "fragment"
        }
      },
      "cell_type": "markdown",
      "source": "![focus, focus, focus](https://www.theamericanconservative.com/wp-content/uploads/2013/09/student-studying.jpg)"
    },
    {
      "metadata": {
        "slideshow": {
          "slide_type": "subslide"
        }
      },
      "cell_type": "markdown",
      "source": "Never fear! Git has a method of handling this complexity. For the time being, remember that this one-file-one-version mapping is called a ```blob``` - git's lowest representation of data. Git can even tell you that the object that you are looking at is a ```blob```"
    },
    {
      "metadata": {
        "slideshow": {
          "slide_type": "-"
        },
        "trusted": true
      },
      "cell_type": "code",
      "source": "!git cat-file -t 1f7a7a472abf3dd9643fd615f6da379c4acb3e3a",
      "execution_count": null,
      "outputs": []
    },
    {
      "metadata": {
        "slideshow": {
          "slide_type": "slide"
        }
      },
      "cell_type": "markdown",
      "source": "## Tree Objects\n"
    },
    {
      "metadata": {
        "slideshow": {
          "slide_type": "slide"
        }
      },
      "cell_type": "markdown",
      "source": "Tree objects solve the problem of memorizing file-version-SHA-1 pairs. "
    },
    {
      "metadata": {
        "slideshow": {
          "slide_type": "fragment"
        }
      },
      "cell_type": "markdown",
      "source": "Tree objects also allow us to store a group of files together."
    },
    {
      "metadata": {
        "slideshow": {
          "slide_type": "fragment"
        }
      },
      "cell_type": "markdown",
      "source": "All of the content in a git repo is stored as tree and blob objects, with trees representing directory entries, and blobs representing file contents"
    },
    {
      "metadata": {
        "slideshow": {
          "slide_type": "fragment"
        }
      },
      "cell_type": "markdown",
      "source": "This is roughly simular to how UNIX systems operate, with trees representing UNIX directory entries, adn blobs representing inodes/file contents"
    },
    {
      "metadata": {
        "slideshow": {
          "slide_type": "slide"
        }
      },
      "cell_type": "markdown",
      "source": "A tree object can contain one or more entries, with each entry representing the SHA-1 of a blob or subtree with its associated mode, name, and filetype\n\n<Neat - what do you mean by trees?!>"
    },
    {
      "metadata": {},
      "cell_type": "markdown",
      "source": "![A simple representation of the git data model](https://git-scm.com/book/en/v2/images/data-model-1.png)"
    },
    {
      "metadata": {
        "slideshow": {
          "slide_type": "slide"
        }
      },
      "cell_type": "markdown",
      "source": "Alright, let's create our own tree. Typically, this would be done by taking the state of your index or staging area and writing a series of tree objects, so let's stage some files"
    },
    {
      "metadata": {
        "slideshow": {
          "slide_type": "subslide"
        }
      },
      "cell_type": "markdown",
      "source": "This can be done by creating an index, which will function as our staging area."
    },
    {
      "metadata": {},
      "cell_type": "markdown",
      "source": "We can use ```git update-index``` to the version of test.txt that we've already added to .git/objects. We'll need to use the ```--add``` flag to push the file to the staging area, and combine it with the ```--cacheinfo``` flag because the file we're adding is not in  our diretory. "
    },
    {
      "metadata": {
        "slideshow": {
          "slide_type": "subslide"
        }
      },
      "cell_type": "markdown",
      "source": "Finally, we'll need to provide the SHA-1, the filename, and the mode of the file. Since test.txt is a normal file (100755 - executable file or 120000 - symbolic link), we provide the code 100644."
    },
    {
      "metadata": {
        "slideshow": {
          "slide_type": "notes"
        }
      },
      "cell_type": "markdown",
      "source": "These modes are taken from UNIX modes. The aforementioned three-modes are the only valid modes for files i.e. blobs in git - although other modes are available for submodules and directories"
    },
    {
      "metadata": {
        "trusted": true
      },
      "cell_type": "code",
      "source": "!git update-index --add --cacheinfo 100644 \\\n  83baae61804e65cc73a7201a7252750c76066a30 test.txt",
      "execution_count": null,
      "outputs": []
    },
    {
      "metadata": {
        "slideshow": {
          "slide_type": "subslide"
        }
      },
      "cell_type": "markdown",
      "source": "We can use ```git ls-files --stage``` to list the files staged in .git/index"
    },
    {
      "metadata": {
        "trusted": true
      },
      "cell_type": "code",
      "source": "!git ls-files --stage",
      "execution_count": null,
      "outputs": []
    },
    {
      "metadata": {
        "slideshow": {
          "slide_type": "subslide"
        }
      },
      "cell_type": "markdown",
      "source": "Since we've added the file to the staging area, we can go ahead and use ```git write-tree``` without the ```-w``` flag. This will create a tree object from the state of the index - if that tree does not exist"
    },
    {
      "metadata": {
        "trusted": true
      },
      "cell_type": "code",
      "source": "!git write-tree\n!git cat-file -p d8329fc1cc938780ffdd9f94e0d364e0ea74f579",
      "execution_count": null,
      "outputs": []
    },
    {
      "metadata": {
        "slideshow": {
          "slide_type": "subslide"
        }
      },
      "cell_type": "markdown",
      "source": "We can now verify that the returned SHA-1 is referencing a tree git object"
    },
    {
      "metadata": {
        "trusted": true
      },
      "cell_type": "code",
      "source": "!git cat-file -t d8329fc1cc938780ffdd9f94e0d364e0ea74f579",
      "execution_count": null,
      "outputs": []
    },
    {
      "metadata": {
        "slideshow": {
          "slide_type": "slide"
        }
      },
      "cell_type": "markdown",
      "source": "Alright, let's create a new tree with a second version of test.txt + a new file"
    },
    {
      "metadata": {
        "trusted": true
      },
      "cell_type": "code",
      "source": "!echo 'new file' > new.txt\n!git update-index --add --cacheinfo 100644 \\\n  1f7a7a472abf3dd9643fd615f6da379c4acb3e3a test.txt\n!git update-index --add new.txt",
      "execution_count": null,
      "outputs": []
    },
    {
      "metadata": {
        "slideshow": {
          "slide_type": "subslide"
        }
      },
      "cell_type": "markdown",
      "source": "Awesome! Our staging area should have the new version of test.txt and a new file - new.txt. "
    },
    {
      "metadata": {
        "trusted": true
      },
      "cell_type": "code",
      "source": "!git ls-files --stage",
      "execution_count": null,
      "outputs": []
    },
    {
      "metadata": {
        "slideshow": {
          "slide_type": "subslide"
        }
      },
      "cell_type": "markdown",
      "source": "Let's go ahead and write that tree"
    },
    {
      "metadata": {
        "trusted": true
      },
      "cell_type": "code",
      "source": "!git write-tree\n!git cat-file -p 0155eb4229851634a0f03eb265b69f5a2d56f341",
      "execution_count": null,
      "outputs": []
    },
    {
      "metadata": {
        "slideshow": {
          "slide_type": "subslide"
        }
      },
      "cell_type": "markdown",
      "source": "Take note - this tree has both file entries AND the SHA-1 is the test.txt containing \"version 2\" (```1f7a7a```). For fun, let's the first tree as a subdirectory into this tree. We can read trees into our staging area by calling ```git read-tree```"
    },
    {
      "metadata": {
        "slideshow": {
          "slide_type": "fragment"
        }
      },
      "cell_type": "markdown",
      "source": "In this case, we'll read an existing tree into our staging area as a subtree using the ```prefix``` flag"
    },
    {
      "metadata": {
        "trusted": true
      },
      "cell_type": "code",
      "source": "!git read-tree --prefix=bak d8329fc1cc938780ffdd9f94e0d364e0ea74f579\n!git write-tree\n!git cat-file -p 3c4e9cd789d88d8d89c1073707c3585e41b0e614",
      "execution_count": null,
      "outputs": []
    },
    {
      "metadata": {
        "slideshow": {
          "slide_type": "subslide"
        }
      },
      "cell_type": "markdown",
      "source": "So, what just happened?"
    },
    {
      "metadata": {
        "slideshow": {
          "slide_type": "fragment"
        }
      },
      "cell_type": "markdown",
      "source": "If we were create a new directory from this new tree, it would have new.txt and test.txt (\"version 2\") in the root directory, and a folder named bak which would contain test.txt (\"version 1\")."
    },
    {
      "metadata": {
        "slideshow": {
          "slide_type": "subslide"
        }
      },
      "cell_type": "markdown",
      "source": "![Structure of git data after bak folder is added](https://git-scm.com/book/en/v2/images/data-model-2.png)"
    },
    {
      "metadata": {
        "slideshow": {
          "slide_type": "slide"
        }
      },
      "cell_type": "markdown",
      "source": "## Commit Objects"
    },
    {
      "metadata": {
        "slideshow": {
          "slide_type": "slide"
        }
      },
      "cell_type": "markdown",
      "source": "Alright so we have three trees which represent different snapshots of our project."
    },
    {
      "metadata": {
        "slideshow": {
          "slide_type": "subslide"
        }
      },
      "cell_type": "markdown",
      "source": "Wait - we still have must remember the SHA-1s of these trees to recall these snapshots! We also do not have any information on who saved the snapshots, when or why they were saved."
    },
    {
      "metadata": {
        "slideshow": {
          "slide_type": "fragment"
        }
      },
      "cell_type": "markdown",
      "source": "This is what commits will store for us"
    },
    {
      "metadata": {
        "slideshow": {
          "slide_type": "slide"
        }
      },
      "cell_type": "markdown",
      "source": "In order to create a commit object, we need to call ```git commit-tree``` and specify a single tree SHA-1 and which commit objects (if any) directly proceed it. Let's start with the first tree we wrote"
    },
    {
      "metadata": {
        "slideshow": {
          "slide_type": "-"
        },
        "trusted": true
      },
      "cell_type": "code",
      "source": "!git config user.name $USERNAME\n!git config --replace-all user.email $USEREMAIL\nfirst_commit_sha_1 = !echo 'first commit' | git commit-tree d8329f \nfirst_commit_sha_1 = first_commit_sha_1[0]\npprint(first_commit_sha_1)",
      "execution_count": null,
      "outputs": []
    },
    {
      "metadata": {
        "slideshow": {
          "slide_type": "subslide"
        }
      },
      "cell_type": "markdown",
      "source": "We're storing the commit SHA-1 in commit_sha_1 as your SHA-1 is influenced by the config values of user.name and user.email."
    },
    {
      "metadata": {
        "slideshow": {
          "slide_type": "fragment"
        }
      },
      "cell_type": "markdown",
      "source": "We can now fetch the new commit object using ```git cat-file```"
    },
    {
      "metadata": {
        "slideshow": {
          "slide_type": "fragment"
        },
        "trusted": true
      },
      "cell_type": "code",
      "source": "!git cat-file -p $first_commit_sha_1",
      "execution_count": null,
      "outputs": []
    },
    {
      "metadata": {
        "slideshow": {
          "slide_type": "notes"
        }
      },
      "cell_type": "markdown",
      "source": "The format you see here is simple - the top level commit; the parent commmits (the command above should not have any parents); the author information (name, email, and a timestamp) a blank line, and the commit message"
    },
    {
      "metadata": {
        "slideshow": {
          "slide_type": "slide"
        }
      },
      "cell_type": "markdown",
      "source": "Now, let's write two other commit objects referencing the commit that came directly before it."
    },
    {
      "metadata": {
        "trusted": true
      },
      "cell_type": "code",
      "source": "second_commit_sha_1 = !echo 'second commit' | git commit-tree 0155eb -p $first_commit_sha_1\nsecond_commit_sha_1 = second_commit_sha_1[0]\npprint(second_commit_sha_1)\nthird_commit_sha_1 = !echo 'third commit' | git commit-tree 3c4e9c -p $second_commit_sha_1\nthird_commit_sha_1 = third_commit_sha_1[0]\npprint(third_commit_sha_1)",
      "execution_count": null,
      "outputs": []
    },
    {
      "metadata": {
        "slideshow": {
          "slide_type": "subslide"
        }
      },
      "cell_type": "markdown",
      "source": "What we have are three new commits which each point to one of the three trees we created. We can use ```git log``` to see the all-too-familiar chain of commits and parent commits - given we provide the last commmit SHA-1"
    },
    {
      "metadata": {
        "slideshow": {
          "slide_type": "subslide"
        },
        "trusted": true
      },
      "cell_type": "code",
      "source": "!git log --stat $third_commit_sha_1",
      "execution_count": null,
      "outputs": []
    },
    {
      "metadata": {
        "slideshow": {
          "slide_type": "slide"
        }
      },
      "cell_type": "markdown",
      "source": "First, give yourselves a round of applauze - we managed to build up git history without using any of the front-end commands"
    },
    {
      "metadata": {
        "slideshow": {
          "slide_type": "subslide"
        }
      },
      "cell_type": "markdown",
      "source": "What we've done here is do what git does when we run ```git add``` and ```git commit``` - that is we:"
    },
    {
      "metadata": {
        "slideshow": {
          "slide_type": "fragment"
        }
      },
      "cell_type": "markdown",
      "source": "1. stored blobs for the files that have changed"
    },
    {
      "metadata": {
        "slideshow": {
          "slide_type": "fragment"
        }
      },
      "cell_type": "markdown",
      "source": "2. update the index (add files to stage)"
    },
    {
      "metadata": {
        "slideshow": {
          "slide_type": "fragment"
        }
      },
      "cell_type": "markdown",
      "source": "3. write-out the trees"
    },
    {
      "metadata": {
        "slideshow": {
          "slide_type": "fragment"
        }
      },
      "cell_type": "markdown",
      "source": "4. write-out the commit objects that reference the top-level trees and commits that came immediately before them"
    },
    {
      "metadata": {
        "slideshow": {
          "slide_type": "subslide"
        }
      },
      "cell_type": "markdown",
      "source": "Let's take a look at all of our shiny new git objects"
    },
    {
      "metadata": {
        "trusted": true
      },
      "cell_type": "code",
      "source": "!find .git/objects -type f",
      "execution_count": null,
      "outputs": []
    },
    {
      "metadata": {},
      "cell_type": "markdown",
      "source": "If we were to map the above pointers, we would have an object-graph simular to the following:\n\n![All the reachable objects in your git directory](https://git-scm.com/book/en/v2/images/data-model-3.png)"
    },
    {
      "metadata": {
        "slideshow": {
          "slide_type": "notes"
        }
      },
      "cell_type": "markdown",
      "source": "### Remember:\nThe commit SHA-1s will be different, however the tree and blob SHA-1s should be the same"
    },
    {
      "metadata": {
        "slideshow": {
          "slide_type": "slide"
        }
      },
      "cell_type": "markdown",
      "source": "## Object Storage"
    },
    {
      "metadata": {
        "slideshow": {
          "slide_type": "slide"
        }
      },
      "cell_type": "markdown",
      "source": "Eariler we mentioned that there is a header stored with every object we commit to your git object database. Let's take a closer look at how this header is calculated, and how it influences the computation of the objects SHA-1"
    },
    {
      "metadata": {
        "slideshow": {
          "slide_type": "subslide"
        }
      },
      "cell_type": "markdown",
      "source": "Using ruby, let's set-up sample data to be commit into our repo"
    },
    {
      "metadata": {
        "slideshow": {
          "slide_type": "-"
        }
      },
      "cell_type": "markdown",
      "source": "```ruby\nirb\n>> content = \"what is up, doc?\"\n=> \"what is up, doc?\"\n```"
    },
    {
      "metadata": {
        "slideshow": {
          "slide_type": "subslide"
        }
      },
      "cell_type": "markdown",
      "source": "After recieving content, git will generate the header. This header will contain the git identified the object type (blob in this case) and a space, followed by the size of in bytes of the content, and a final null byte"
    },
    {
      "metadata": {
        "slideshow": {
          "slide_type": "-"
        }
      },
      "cell_type": "markdown",
      "source": "```ruby\n>> header = \"blob #{content.length}\\0\"\n=> \"blob 16\\u0000\"\n```"
    },
    {
      "metadata": {
        "slideshow": {
          "slide_type": "subslide"
        }
      },
      "cell_type": "markdown",
      "source": "Git will concatenate the header and the original content. The results are then used to calculate the SHA-1 of the content"
    },
    {
      "metadata": {},
      "cell_type": "markdown",
      "source": "```ruby\n>> store = header + content\n=> \"blob 16\\u0000what is up, doc?\"\n>> require 'digest/sha1'\n=> true\n>> sha1 = Digest::SHA1.hexdigest(store)\n=> \"bd9dbf5aae1a3862dd1526723246b20206e5fc37\"\n```"
    },
    {
      "metadata": {
        "slideshow": {
          "slide_type": "subslide"
        }
      },
      "cell_type": "markdown",
      "source": "We have implemented the above logic in 'sha-1-example.rb'. The SHA-1 will be the same SHA-1 that will be computed by ```git hash-object```!"
    },
    {
      "metadata": {
        "slideshow": {
          "slide_type": "fragment"
        },
        "trusted": true
      },
      "cell_type": "code",
      "source": "!ruby sha-1-example.rb",
      "execution_count": null,
      "outputs": []
    },
    {
      "metadata": {
        "slideshow": {
          "slide_type": "fragment"
        },
        "trusted": true
      },
      "cell_type": "code",
      "source": "!echo -n \"what is up, doc?\" | git hash-object --stdin",
      "execution_count": null,
      "outputs": []
    },
    {
      "metadata": {
        "slideshow": {
          "slide_type": "slide"
        }
      },
      "cell_type": "markdown",
      "source": "Git then compreses the new content with zlib."
    },
    {
      "metadata": {},
      "cell_type": "markdown",
      "source": "```ruby\n>> require 'zlib'\n=> true\n>> zlib_content = Zlib::Deflate.deflate(store)\n=> \"x\\x9CK\\xCA\\xC9OR04c(\\xCFH,Q\\xC8,V(-\\xD0QH\\xC9O\\xB6\\a\\x00_\\x1C\\a\\x9D\"\n```"
    },
    {
      "metadata": {
        "slideshow": {
          "slide_type": "subslide"
        }
      },
      "cell_type": "markdown",
      "source": "Now, we need to write this deflated zlib content to an object on disk. We will set subdirectory path to the first two characters of the SHA-1 value, and the remainding 38 characters will be the file name in that directory"
    },
    {
      "metadata": {},
      "cell_type": "markdown",
      "source": "```ruby\n>> path = '.git/objects/' + sha1[0,2] + '/' + sha1[2,38]\n=> \".git/objects/bd/9dbf5aae1a3862dd1526723246b20206e5fc37\"\n>> require 'fileutils'\n=> true\n>> FileUtils.mkdir_p(File.dirname(path))\n=> \".git/objects/bd\"\n>> File.open(path, 'w') { |f| f.write zlib_content }\n=> 32\n```"
    },
    {
      "metadata": {
        "slideshow": {
          "slide_type": "subslide"
        }
      },
      "cell_type": "markdown",
      "source": "We have implemented the above steps in blob-example.rb. We can run the ruby script, and check to see if we've created a valid git blob object"
    },
    {
      "metadata": {
        "slideshow": {
          "slide_type": "fragment"
        },
        "trusted": true
      },
      "cell_type": "code",
      "source": "!ruby blob-example.rb\n!git cat-file -p bd9dbf5aae1a3862dd1526723246b20206e5fc37",
      "execution_count": null,
      "outputs": []
    },
    {
      "metadata": {
        "slideshow": {
          "slide_type": "slide"
        }
      },
      "cell_type": "markdown",
      "source": "Done and done 🎉\n\nAll git objects are stored the same way, just with differnt types. The header would be 'tree' for tree objects, 'commit' for commit objects, etc."
    }
  ],
  "metadata": {
    "kernelspec": {
      "name": "python36",
      "display_name": "Python 3.6",
      "language": "python"
    },
    "language_info": {
      "mimetype": "text/x-python",
      "nbconvert_exporter": "python",
      "name": "python",
      "pygments_lexer": "ipython3",
      "version": "3.6.6",
      "file_extension": ".py",
      "codemirror_mode": {
        "version": 3,
        "name": "ipython"
      }
    },
    "celltoolbar": "Slideshow"
  },
  "nbformat": 4,
  "nbformat_minor": 2
}