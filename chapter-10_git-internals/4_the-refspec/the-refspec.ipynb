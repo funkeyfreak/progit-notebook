{
  "cells": [
    {
      "metadata": {
        "collapsed": true,
        "slideshow": {
          "slide_type": "notes"
        }
      },
      "cell_type": "markdown",
      "source": "This notebook _roughly_ follows [git-book chapter 10.5 - Git Internals - The Refspec](https://git-scm.com/book/en/v2/Git-Internals-The-Refspec)."
    },
    {
      "metadata": {
        "slideshow": {
          "slide_type": "notes"
        }
      },
      "cell_type": "markdown",
      "source": "# Before we git started, let's setup your environment\n\n\n## NOTE: Run the [packfiles notebook](../3_packfiles/packfiles.ipynb) before running this notebook"
    },
    {
      "metadata": {
        "slideshow": {
          "slide_type": "notes"
        },
        "trusted": true
      },
      "cell_type": "code",
      "source": "from pprint import pprint\n\n!sh clean.sh\n!sh setup.sh",
      "execution_count": 2,
      "outputs": [
        {
          "output_type": "stream",
          "text": "cp: cannot stat '../3_git-references/.git': No such file or directory\r\n",
          "name": "stdout"
        }
      ]
    },
    {
      "metadata": {
        "slideshow": {
          "slide_type": "slide"
        }
      },
      "cell_type": "markdown",
      "source": "# Git Internals - The Refspec\n"
    },
    {
      "metadata": {
        "slideshow": {
          "slide_type": "slide"
        }
      },
      "cell_type": "markdown",
      "source": "So far, we've only used a fraction of what "
    },
    {
      "metadata": {
        "trusted": true
      },
      "cell_type": "code",
      "source": "",
      "execution_count": null,
      "outputs": []
    }
  ],
  "metadata": {
    "kernelspec": {
      "name": "python36",
      "display_name": "Python 3.6",
      "language": "python"
    },
    "language_info": {
      "mimetype": "text/x-python",
      "nbconvert_exporter": "python",
      "name": "python",
      "pygments_lexer": "ipython3",
      "version": "3.6.6",
      "file_extension": ".py",
      "codemirror_mode": {
        "version": 3,
        "name": "ipython"
      }
    },
    "celltoolbar": "Slideshow"
  },
  "nbformat": 4,
  "nbformat_minor": 2
}